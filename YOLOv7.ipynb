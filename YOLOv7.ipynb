{
  "nbformat": 4,
  "nbformat_minor": 0,
  "metadata": {
    "colab": {
      "private_outputs": true,
      "provenance": [],
      "gpuType": "T4",
      "include_colab_link": true
    },
    "kernelspec": {
      "name": "python3",
      "display_name": "Python 3"
    },
    "language_info": {
      "name": "python"
    },
    "accelerator": "GPU"
  },
  "cells": [
    {
      "cell_type": "markdown",
      "metadata": {
        "id": "view-in-github",
        "colab_type": "text"
      },
      "source": [
        "<a href=\"https://colab.research.google.com/github/GOWTHAM-THE-DEVELOPER/YOLOV8_SHIP_DETECTION/blob/main/YOLOv7.ipynb\" target=\"_parent\"><img src=\"https://colab.research.google.com/assets/colab-badge.svg\" alt=\"Open In Colab\"/></a>"
      ]
    },
    {
      "cell_type": "code",
      "execution_count": null,
      "metadata": {
        "id": "ax17Ftus0mCh"
      },
      "outputs": [],
      "source": [
        "!nvidia-smi\n",
        "\n"
      ]
    },
    {
      "cell_type": "code",
      "source": [
        "from google.colab import drive\n",
        "drive.mount('/content/drive')"
      ],
      "metadata": {
        "id": "Y6049He2qG5F"
      },
      "execution_count": null,
      "outputs": []
    },
    {
      "cell_type": "code",
      "source": [
        "%cd /content/drive/MyDrive/YOLOv7"
      ],
      "metadata": {
        "id": "AIc-bOiXSFab"
      },
      "execution_count": null,
      "outputs": []
    },
    {
      "cell_type": "code",
      "source": [
        "# Download YOLOv7 repository and install requirements\n",
        "%cd /content/drive/MyDrive/YOLOv7\n",
        "\n",
        "# !git clone https://github.com/WongKinYiu/yolov7\n",
        "# %cd yolov7\n",
        "# !pip install -r requirements.txt\n",
        "\n",
        "# current version of YOLOv7 is not compatible with pytorch>1.12.1 and numpy>1.20.1\n",
        "# until the appropriate changes get made to the main repository, we will be using a fork containing the patched code\n",
        "# you can track the progress here: https://github.com/roboflow/notebooks/issues/27\n",
        "!git clone https://github.com/SkalskiP/yolov7.git\n",
        "%cd yolov7\n",
        "!git checkout fix/problems_associated_with_the_latest_versions_of_pytorch_and_numpy\n",
        "!pip install -r requirements.txt\n"
      ],
      "metadata": {
        "id": "IPytJNgJ1Vyt"
      },
      "execution_count": null,
      "outputs": []
    },
    {
      "cell_type": "code",
      "source": [
        "%cd /content/drive/MyDrive/YOLOv7\n",
        "!pip install roboflow\n",
        "\n",
        "from roboflow import Roboflow\n",
        "rf = Roboflow(api_key=\"gY8QegXelFLNFB7eGEr6\")\n",
        "project = rf.workspace(\"gowtham-ns9rj\").project(\"yolov7-7000-dataset\")\n",
        "version = project.version(1)\n",
        "dataset = version.download(\"yolov7\")\n"
      ],
      "metadata": {
        "id": "JPftfQS71dNW"
      },
      "execution_count": null,
      "outputs": []
    },
    {
      "cell_type": "code",
      "source": [
        "!unzip roboflow.zip"
      ],
      "metadata": {
        "id": "g_fSOujYrgBO"
      },
      "execution_count": null,
      "outputs": []
    },
    {
      "cell_type": "code",
      "source": [
        "%cd /content/drive/MyDrive/YOLOv7\n",
        "# download COCO starting checkpoint\n",
        "\n",
        "!wget https://github.com/WongKinYiu/yolov7/releases/download/v0.1/yolov7_training.pt\n"
      ],
      "metadata": {
        "id": "DDii1yzk19rb"
      },
      "execution_count": null,
      "outputs": []
    },
    {
      "cell_type": "code",
      "source": [
        "# run this cell to begin training\n",
        "%cd /content/drive/MyDrive/YOLOv7/yolov7\n",
        "!python train.py --batch 20 --epochs 50 --data /content/drive/MyDrive/YOLOv7/yolov7/data/custom.yaml --weights 'yolov7_training.pt'\n"
      ],
      "metadata": {
        "id": "A5dGUVX-9wVF"
      },
      "execution_count": null,
      "outputs": []
    },
    {
      "cell_type": "code",
      "source": [
        "#Run evaluation\n",
        "!python /content/drive/MyDrive/YOLOv7/yolov7/detect.py --weights runs/train/exp6/weights/best.pt --conf 0.1 --source /content/drive/MyDrive/YOLOv7/YOLOv7-7000-dataset-1/test/images"
      ],
      "metadata": {
        "id": "H1zzjuFTFSgA"
      },
      "execution_count": null,
      "outputs": []
    },
    {
      "cell_type": "code",
      "source": [
        "weights = '/content/yolov7/runs/train/exp/weights/best.pt'  # Example path to weights file\n"
      ],
      "metadata": {
        "id": "hfK0ZEJmH1H1"
      },
      "execution_count": null,
      "outputs": []
    },
    {
      "cell_type": "code",
      "source": [
        "#display inference on ALL test images\n",
        "\n",
        "import glob\n",
        "from IPython.display import Image, display\n",
        "\n",
        "i = 0\n",
        "limit = 10000 # max images to print\n",
        "for imageName in glob.glob('/content/drive/MyDrive/YOLOv7/yolov7/runs/detect/exp2/000007_jpg.rf.f731a3319dd59db694782c2d11121f6c.jpg'): #assuming JPG\n",
        "    if i < limit:\n",
        "      display(Image(filename=imageName))\n",
        "      print(\"\\n\")\n",
        "    i = i + 1"
      ],
      "metadata": {
        "id": "k1x9DZIxJEJ1"
      },
      "execution_count": null,
      "outputs": []
    }
  ]
}