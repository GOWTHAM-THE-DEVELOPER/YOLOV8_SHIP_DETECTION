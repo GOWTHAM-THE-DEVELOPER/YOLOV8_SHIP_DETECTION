{
  "nbformat": 4,
  "nbformat_minor": 0,
  "metadata": {
    "colab": {
      "private_outputs": true,
      "provenance": [],
      "include_colab_link": true
    },
    "kernelspec": {
      "name": "python3",
      "display_name": "Python 3"
    },
    "language_info": {
      "name": "python"
    }
  },
  "cells": [
    {
      "cell_type": "markdown",
      "metadata": {
        "id": "view-in-github",
        "colab_type": "text"
      },
      "source": [
        "<a href=\"https://colab.research.google.com/github/GOWTHAM-THE-DEVELOPER/YOLOV8_SHIP_DETECTION/blob/main/YOLOv5.ipynb\" target=\"_parent\"><img src=\"https://colab.research.google.com/assets/colab-badge.svg\" alt=\"Open In Colab\"/></a>"
      ]
    },
    {
      "cell_type": "code",
      "source": [
        "%cd /content/drive/MyDrive/YOLOv5"
      ],
      "metadata": {
        "id": "GqDroo2q1Sn0"
      },
      "execution_count": null,
      "outputs": []
    },
    {
      "cell_type": "code",
      "source": [
        "from google.colab import drive\n",
        "drive.mount('/content/drive')"
      ],
      "metadata": {
        "id": "eA4ecbRvh_nb"
      },
      "execution_count": null,
      "outputs": []
    },
    {
      "cell_type": "code",
      "source": [
        "#clone YOLOv5 and\n",
        "\n",
        "%cd /content/drive/MyDrive/YOLOv5\n",
        "!git clone https://github.com/ultralytics/yolov5  # clone repo\n",
        "%cd yolov5\n",
        "%pip install -qr requirements.txt # install dependencies\n",
        "%pip install -q roboflow\n",
        "\n",
        "import torch\n",
        "import os\n",
        "from IPython.display import Image, clear_output  # to display images\n",
        "\n",
        "print(f\"Setup complete. Using torch {torch.__version__} ({torch.cuda.get_device_properties(0).name if torch.cuda.is_available() else 'CPU'})\")"
      ],
      "metadata": {
        "id": "TTq3Uzg4fCQw"
      },
      "execution_count": null,
      "outputs": []
    },
    {
      "cell_type": "code",
      "source": [
        "%cd /content/drive/MyDrive/YOLOv5\n",
        "!pip install roboflow\n",
        "\n",
        "from roboflow import Roboflow\n",
        "rf = Roboflow(api_key=\"gY8QegXelFLNFB7eGEr6\")\n",
        "project = rf.workspace(\"gowtham-ns9rj\").project(\"yolov7-7000-dataset\")\n",
        "version = project.version(1)\n",
        "dataset = version.download(\"yolov5\")\n",
        "\n"
      ],
      "metadata": {
        "id": "IVq1mALSfndH"
      },
      "execution_count": null,
      "outputs": []
    },
    {
      "cell_type": "code",
      "source": [
        "\n",
        "!python /content/drive/MyDrive/YOLOv5/yolov5/train.py --img 416 --batch 128 --epochs 50 --data /content/drive/MyDrive/YOLOv5/yolov5/data/data.yaml --weights /content/drive/MyDrive/YOLOv5/yolov5/yolov5s.pt --cache"
      ],
      "metadata": {
        "id": "0-pgC31dg3mI"
      },
      "execution_count": null,
      "outputs": []
    },
    {
      "cell_type": "code",
      "source": [
        "!python /content/drive/MyDrive/YOLOv5/yolov5/detect.py --weights runs/train/exp16/weights/best.pt --img 640 --conf 0.1 --source /content/drive/MyDrive/YOLOv5/YOLOv7-7000-dataset-1/test/images"
      ],
      "metadata": {
        "id": "WzubNzquwPlZ"
      },
      "execution_count": null,
      "outputs": []
    },
    {
      "cell_type": "code",
      "source": [
        "import glob\n",
        "from IPython.display import Image, display\n",
        "\n",
        "for imageName in glob.glob('/content/drive/MyDrive/YOLOv5/yolov5/runs/detect/exp5/000007_jpg.rf.f731a3319dd59db694782c2d11121f6c.jpg'): #assuming JPG\n",
        "    display(Image(filename=imageName))\n",
        "    print(\"\\n\")"
      ],
      "metadata": {
        "id": "HyO1NiNxz3VR"
      },
      "execution_count": null,
      "outputs": []
    }
  ]
}